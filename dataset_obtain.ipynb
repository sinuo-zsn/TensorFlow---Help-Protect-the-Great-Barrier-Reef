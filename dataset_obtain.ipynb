{
 "cells": [
  {
   "cell_type": "code",
   "execution_count": 29,
   "outputs": [],
   "source": [
    "# For traditional part the algorithm, you need to run follow this order\n",
    "# 1. dataset_obtain\n",
    "# 2. feature_get\n",
    "# 3. classifier\n",
    "# 4. final_result"
   ],
   "metadata": {
    "collapsed": false,
    "pycharm": {
     "name": "#%%\n"
    }
   }
  },
  {
   "cell_type": "code",
   "execution_count": 30,
   "outputs": [],
   "source": [
    "# This file is used to get the positive and negative examples\n",
    "# You need to create two files to access the positive and negative images\n",
    "    # starfish-image\n",
    "    # neg-image"
   ],
   "metadata": {
    "collapsed": false,
    "pycharm": {
     "name": "#%%\n"
    }
   }
  },
  {
   "cell_type": "code",
   "execution_count": 31,
   "outputs": [],
   "source": [
    "# All import\n",
    "import pandas as pd\n",
    "from tqdm import tqdm\n",
    "import matplotlib.pyplot as plt\n",
    "import cv2\n",
    "import random"
   ],
   "metadata": {
    "collapsed": false,
    "pycharm": {
     "name": "#%%\n"
    }
   }
  },
  {
   "cell_type": "code",
   "execution_count": 32,
   "outputs": [],
   "source": [
    "# All input\n",
    "image_set = '.\\\\tensorflow-great-barrier-reef\\\\train_images'\n",
    "data_set = pd.read_csv(\n",
    "    '.\\\\tensorflow-great-barrier-reef\\\\train.csv')"
   ],
   "metadata": {
    "collapsed": false,
    "pycharm": {
     "name": "#%%\n"
    }
   }
  },
  {
   "cell_type": "code",
   "execution_count": 33,
   "outputs": [],
   "source": [
    "# A function to spilt the str information to list/dict\n",
    "def spilt_annotations(annotations_str):\n",
    "    annotations_list = eval(annotations_str)\n",
    "    for i in range(len(annotations_list)):\n",
    "        dict_temp = eval(str(annotations_list[i]))\n",
    "        annotations_list[i] = dict_temp\n",
    "    return annotations_list"
   ],
   "metadata": {
    "collapsed": false,
    "pycharm": {
     "name": "#%%\n"
    }
   }
  },
  {
   "cell_type": "code",
   "execution_count": 34,
   "outputs": [],
   "source": [
    "# A function to get the all true starfish\n",
    "# Input: csv heading number n\n",
    "# Output: download all starfish picture\n",
    "          # name as: n_1.jpg, n_2.jpg,...\n",
    "def get_starfish_image(n):\n",
    "    video_file_list = ['video_0', 'video_1', 'video_2']\n",
    "    image_file = data_set.iloc[n]['video_id']\n",
    "    image_num = data_set.iloc[n]['video_frame']\n",
    "    image_path = '.\\\\tensorflow-great-barrier-reef\\\\train_images\\\\'\\\n",
    "                 + video_file_list[image_file] + '\\\\'\\\n",
    "                 + str(image_num) + '.jpg'\n",
    "    img = cv2.imread(image_path)\n",
    "    img_RGB = cv2.cvtColor(img, cv2.COLOR_BGR2RGB)\n",
    "    list = spilt_annotations(data_set.iloc[n]['annotations'])\n",
    "    if len(list) != 0:\n",
    "        num = 0\n",
    "        for dict in list:\n",
    "            (left, top) = (dict['x'], dict['y'])\n",
    "            (right, bottom) = (dict['x'] + dict['width'], dict['y'] + dict['height'])\n",
    "            roi_img = img_RGB[top:bottom, left:right]\n",
    "            plt.imshow(roi_img)\n",
    "            roi_img_BGR = cv2.cvtColor(roi_img, cv2.COLOR_RGB2BGR)\n",
    "            img_name = '.\\\\starfish-image\\\\' + str(n) + '_' + str(num) + '.jpg'\n",
    "            cv2.imwrite(img_name, roi_img_BGR)\n",
    "            num = num + 1\n",
    "    else:\n",
    "        pass"
   ],
   "metadata": {
    "collapsed": false,
    "pycharm": {
     "name": "#%%\n"
    }
   }
  },
  {
   "cell_type": "code",
   "execution_count": 35,
   "outputs": [],
   "source": [
    "# A function to get the one random neg image with no starfish image\n",
    "# Input: csv heading number range (n,m)\n",
    "# Output: download the neg image into neg-image folder\n",
    "          # name as: n.jpg\n",
    "\n",
    "def get_neg_image(random_range,size):\n",
    "    for i in tqdm(range(random_range)):\n",
    "        video_file_list = ['video_0', 'video_1', 'video_2']\n",
    "        image_file = data_set.iloc[i]['video_id']\n",
    "        image_num = data_set.iloc[i]['video_frame']\n",
    "        image_path = '.\\\\tensorflow-great-barrier-reef\\\\train_images\\\\'\\\n",
    "                     + video_file_list[image_file] + '\\\\'\\\n",
    "                     + str(image_num) + '.jpg'\n",
    "        img = cv2.imread(image_path)\n",
    "        img_RGB = cv2.cvtColor(img, cv2.COLOR_BGR2RGB)\n",
    "        list = spilt_annotations(data_set.iloc[i]['annotations'])\n",
    "        # if this picture no starfish\n",
    "        # then extract one random position image\n",
    "        if len(list) == 0:\n",
    "            width, height = size[1], size[0]\n",
    "            y = int(random.random() * (720 - height))\n",
    "            x = int(random.random() * (1280 - width))\n",
    "            img_temp = img_RGB[y:y + height, x:x + width]\n",
    "            img_temp = cv2.cvtColor(img_temp, cv2.COLOR_RGB2BGR)\n",
    "            img_name = '.\\\\neg-image\\\\' + str(i) + '.jpg'\n",
    "            cv2.imwrite(img_name, img_temp)\n",
    "        else:\n",
    "            pass"
   ],
   "metadata": {
    "collapsed": false,
    "pycharm": {
     "name": "#%%\n"
    }
   }
  },
  {
   "cell_type": "code",
   "execution_count": 36,
   "outputs": [],
   "source": [
    "# A function to get the one neg image with around the starfish image\n",
    "# Input: csv heading number n\n",
    "# Output: download the neg image into neg-image folder\n",
    "        # name as: n_1.jpg, n_2.jpg\n",
    "\n",
    "def get_neg_image_2(n):\n",
    "    video_file_list = ['video_0', 'video_1', 'video_2']\n",
    "    image_file = data_set.iloc[n]['video_id']\n",
    "    image_num = data_set.iloc[n]['video_frame']\n",
    "    image_path = '.\\\\tensorflow-great-barrier-reef\\\\train_images\\\\'\\\n",
    "                 + video_file_list[image_file] + '\\\\'\\\n",
    "                 + str(image_num) + '.jpg'\n",
    "    img = cv2.imread(image_path)\n",
    "    img_RGB = cv2.cvtColor(img, cv2.COLOR_BGR2RGB)\n",
    "\n",
    "    list = spilt_annotations(data_set.iloc[n]['annotations'])\n",
    "    if len(list) != 0:\n",
    "        num = 0\n",
    "        for dict in list:\n",
    "            # extract up starfish image\n",
    "            (left, top) = (dict['x'], dict['y'])\n",
    "            (right, bottom) = (dict['x'] + dict['width'], dict['y'] + dict['height'])\n",
    "            roi_img = img_RGB[2*top-bottom:top, left:right]\n",
    "            if roi_img.shape[0]>40 and roi_img.shape[1]>40:\n",
    "                roi_img_BGR = cv2.cvtColor(roi_img, cv2.COLOR_RGB2BGR)\n",
    "                img_name = '.\\\\neg-image\\\\' + str(n) + '_1' + str(num) + '.jpg'\n",
    "                cv2.imwrite(img_name, roi_img_BGR)\n",
    "\n",
    "            # extract bottom starfish image\n",
    "            (left, top) = (dict['x'], dict['y'])\n",
    "            (right, bottom) = (dict['x'] + dict['width'], dict['y'] + dict['height'])\n",
    "            roi_img = img_RGB[bottom:2*bottom-top, left:right]\n",
    "            if roi_img.shape[0]>40 and roi_img.shape[1]>40:\n",
    "                roi_img_BGR = cv2.cvtColor(roi_img, cv2.COLOR_RGB2BGR)\n",
    "                img_name = '.\\\\neg-image\\\\' + str(n) + '_2' + str(num) + '.jpg'\n",
    "                cv2.imwrite(img_name, roi_img_BGR)\n",
    "            num = num + 1\n",
    "    else:\n",
    "        pass"
   ],
   "metadata": {
    "collapsed": false,
    "pycharm": {
     "name": "#%%\n"
    }
   }
  },
  {
   "cell_type": "code",
   "execution_count": 37,
   "outputs": [
    {
     "name": "stderr",
     "output_type": "stream",
     "text": [
      "100%|██████████| 18800/18800 [05:07<00:00, 61.21it/s]\n",
      "100%|██████████| 18800/18800 [05:09<00:00, 60.68it/s]\n"
     ]
    },
    {
     "data": {
      "text/plain": "<Figure size 432x288 with 1 Axes>",
      "image/png": "[encoded data removed]"
     },
     "metadata": {
      "needs_background": "light"
     },
     "output_type": "display_data"
    }
   ],
   "source": [
    "# for SVM classifier\n",
    "# postive\n",
    "# 80% data for postive dataset\n",
    "# 23500*0.8 = 18800\n",
    "for i in tqdm(range(18800)):\n",
    "   get_starfish_image(i)\n",
    "\n",
    "# negative\n",
    "# for all 80% dataset\n",
    "# get the one random neg image with no starfish image\n",
    "get_neg_image(random_range=18800,size = (100,100))"
   ],
   "metadata": {
    "collapsed": false,
    "pycharm": {
     "name": "#%%\n"
    }
   }
  },
  {
   "cell_type": "code",
   "execution_count": 38,
   "outputs": [],
   "source": [
    "# for DT classifier\n",
    "# postive (same with SVM)\n",
    "# 80% data for postive dataset\n",
    "# 23500*0.8 = 18800\n",
    "# for i in tqdm(range(18800)):\n",
    "#    get_starfish_image(i)\n",
    "\n",
    "# negative\n",
    "# for top formal 0-9000 dataset\n",
    "# get the one random neg image with no starfish image\n",
    "# get_neg_image(random_range=9000,size = (50,50))\n",
    "\n",
    "# for 9000-18000 dataset\n",
    "# get the neg image around starfish\n",
    "# for i in tqdm(range(9000,18000)):\n",
    "#    get_neg_image_2(i)\n",
    "\n",
    "# gradient[2000:]"
   ],
   "metadata": {
    "collapsed": false,
    "pycharm": {
     "name": "#%%\n"
    }
   }
  }
 ],
 "metadata": {
  "kernelspec": {
   "display_name": "Python 3",
   "language": "python",
   "name": "python3"
  },
  "language_info": {
   "codemirror_mode": {
    "name": "ipython",
    "version": 3
   },
   "file_extension": ".py",
   "mimetype": "text/x-python",
   "name": "python",
   "nbconvert_exporter": "python",
   "pygments_lexer": "ipython3",
   "version": "3.6.13"
  }
 },
 "nbformat": 4,
 "nbformat_minor": 1
}