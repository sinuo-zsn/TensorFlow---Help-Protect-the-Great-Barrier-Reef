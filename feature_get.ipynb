{
 "cells": [
  {
   "cell_type": "code",
   "execution_count": 1,
   "outputs": [],
   "source": [
    "# This file is used to extract the appropriate features\n",
    "# and extract them to\n",
    "    # gradient.npy\n",
    "    # label.npy"
   ],
   "metadata": {
    "collapsed": false,
    "pycharm": {
     "name": "#%%\n"
    }
   }
  },
  {
   "cell_type": "code",
   "execution_count": 2,
   "outputs": [],
   "source": [
    "# all import\n",
    "import cv2\n",
    "from tqdm import tqdm\n",
    "import numpy as np\n",
    "import matplotlib.pyplot as plt\n",
    "import os"
   ],
   "metadata": {
    "collapsed": false,
    "pycharm": {
     "name": "#%%\n"
    }
   }
  },
  {
   "cell_type": "code",
   "execution_count": 3,
   "outputs": [],
   "source": [
    "# get pos_list/neg_list from the folder you create before\n",
    "pos_list = []\n",
    "neg_list = []\n",
    "filenames_pos = os.listdir(r'.\\\\starfish-image')\n",
    "for i in filenames_pos:\n",
    "    image_path = '.\\\\starfish-image\\\\' + i\n",
    "    img = cv2.imread(image_path)\n",
    "    original_img_RGB = cv2.cvtColor(img, cv2.COLOR_BGR2RGB)\n",
    "    pos_list.append(original_img_RGB)\n",
    "\n",
    "filenames_neg = os.listdir(r'.\\\\neg-image')\n",
    "for i in filenames_neg:\n",
    "    image_path = '.\\\\neg-image\\\\' + i\n",
    "    img = cv2.imread(image_path)\n",
    "    original_img_RGB = cv2.cvtColor(img, cv2.COLOR_BGR2RGB)\n",
    "    neg_list.append(original_img_RGB)"
   ],
   "metadata": {
    "collapsed": false,
    "pycharm": {
     "name": "#%%\n"
    }
   }
  },
  {
   "cell_type": "code",
   "execution_count": 4,
   "outputs": [],
   "source": [
    "# get gradient image for single raw image\n",
    "from skimage.feature import hog\n",
    "def computeHOGs(img):\n",
    "    gray_img = cv2.cvtColor(img, cv2.COLOR_RGB2GRAY)\n",
    "    final_img = cv2.resize(gray_img, (100, 100), interpolation=cv2.INTER_CUBIC)\n",
    "    features, hog_img = hog(final_img, orientations=7, pixels_per_cell=(2, 2), cells_per_block=(1, 1), visualize=True,feature_vector=False)\n",
    "    plt.imshow(hog_img, 'gray')\n",
    "    return hog_img.flatten()\n",
    "    # return gradient"
   ],
   "metadata": {
    "collapsed": false,
    "pycharm": {
     "name": "#%%\n"
    }
   }
  },
  {
   "cell_type": "code",
   "execution_count": 5,
   "outputs": [],
   "source": [
    "# from skimage.feature import hog\n",
    "def get_color_histo_feature(img):\n",
    "    img = cv2.resize(img, (10, 10), interpolation=cv2.INTER_CUBIC)\n",
    "    channel1_hist = np.histogram(img[:,:,0])\n",
    "    channel2_hist = np.histogram(img[:,:,1])\n",
    "    channel3_hist = np.histogram(img[:,:,2])\n",
    "    return np.concatenate((channel1_hist[0],channel2_hist[0],channel3_hist[0]))\n",
    "\n",
    "# def bin_spatial(img,size=(150,150)):\n",
    "#     features = cv2.resize(img,size).ravel()\n",
    "#     return features\n",
    "\n",
    "# 拼接hog，color和spatial\n",
    "def extractor(img):\n",
    "    img = cv2.cvtColor(img, cv2.COLOR_RGB2YCrCb)\n",
    "    img_features = []\n",
    "    img_features.append(computeHOGs(img))\n",
    "    img_features.append(get_color_histo_feature(img))\n",
    "    return np.concatenate(img_features)"
   ],
   "metadata": {
    "collapsed": false,
    "pycharm": {
     "name": "#%%\n"
    }
   }
  },
  {
   "cell_type": "code",
   "execution_count": null,
   "outputs": [],
   "source": [
    "gradient = []\n",
    "label = []\n",
    "# use computeHOGs to only get the hog feature\n",
    "# computeHOGs() get only hog\n",
    "# extractor() to get the hog, color, spatial feature\n",
    "for i in tqdm(range(len(pos_list))):\n",
    "    gradient.append(extractor(pos_list[i]))\n",
    "for i in tqdm(range(len(neg_list))):\n",
    "    gradient.append(extractor(neg_list[i]))\n",
    "\n",
    "gradient_list=np.array(gradient)\n",
    "np.save('gradient.npy',gradient_list) #\n",
    "# gradient = np.load('gradient.npy')\n",
    "# gradient = gradient.tolist()\n",
    "\n",
    "for _ in tqdm(range(len(pos_list))):\n",
    "    label.append(1)\n",
    "for _ in tqdm(range(len(neg_list))):\n",
    "    label.append(-1)\n",
    "label_list=np.array(label)\n",
    "np.save('label.npy',label_list) #\n",
    "# label = np.load('label.npy')\n",
    "# label = label.tolist()"
   ],
   "metadata": {
    "collapsed": false,
    "pycharm": {
     "name": "#%%\n"
    }
   }
  }
 ],
 "metadata": {
  "kernelspec": {
   "display_name": "Python 3",
   "language": "python",
   "name": "python3"
  },
  "language_info": {
   "codemirror_mode": {
    "name": "ipython",
    "version": 3
   },
   "file_extension": ".py",
   "mimetype": "text/x-python",
   "name": "python",
   "nbconvert_exporter": "python",
   "pygments_lexer": "ipython3",
   "version": "3.6.13"
  }
 },
 "nbformat": 4,
 "nbformat_minor": 1
}